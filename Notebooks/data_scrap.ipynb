{
 "cells": [
  {
   "cell_type": "code",
   "execution_count": null,
   "id": "04eb4606",
   "metadata": {},
   "outputs": [],
   "source": [
    "from telethon.sync import TelegramClient\n",
    "from telethon.tl.types import MessageMediaPhoto\n",
    "import os\n",
    "import json\n",
    "from datetime import datetime\n",
    "import logging"
   ]
  },
  {
   "cell_type": "code",
   "execution_count": null,
   "id": "d508b9c5",
   "metadata": {},
   "outputs": [],
   "source": [
    "\n",
    "api_id = \"your_api_id_here\"  # Replace with your actual API ID\n",
    "api_hash = \"your_api_hash_here\"  # Replace with your actual API Hash\n",
    "client = TelegramClient('session', api_id, api_hash)\n",
    "\n",
    "# Set up logging\n",
    "logging.basicConfig(level=logging.INFO)\n",
    "\n",
    "async def scrape_channel(channel_usernames, limit=50):\n",
    "    await client.start()\n",
    "    for channel_username in channel_usernames:\n",
    "        logging.info(f\"Scraping messages from {channel_username}\")\n",
    "        \n",
    "        messages = await client.get_messages(channel_username, limit=limit)\n",
    "        os.makedirs(f\"data/raw/telegram_messages/{datetime.now().strftime('%Y-%m-%d')}/{channel_username}\", exist_ok=True)\n",
    "\n",
    "        # Store messages in a list for JSON output\n",
    "        message_data = []\n",
    "\n",
    "        for i, message in enumerate(messages):\n",
    "            if message.text:\n",
    "                logging.info(f\"{i+1}. {message.text}\\n\")\n",
    "                message_data.append({\"message\": message.text})\n",
    "            if message.media and isinstance(message.media, MessageMediaPhoto):\n",
    "                file_path = await message.download_media(file=f\"data/raw/telegram_messages/{datetime.now().strftime('%Y-%m-%d')}/{channel_username}/\")\n",
    "                logging.info(f\"Saved image to: {file_path}\")\n",
    "                message_data.append({\"image\": file_path})\n",
    "        \n",
    "        # Save messages as JSON\n",
    "        with open(f\"data/raw/telegram_messages/{datetime.now().strftime('%Y-%m-%d')}/{channel_username}/messages.json\", 'w') as f:\n",
    "            json.dump(message_data, f, indent=4)\n",
    "\n",
    "    await client.disconnect()\n",
    "\n",
    "# Run this directly\n",
    "await scrape_channel([\"lobelia4cosmetics\",\"tikvahpharma\",\"CheMed123\"])"
   ]
  }
 ],
 "metadata": {
  "kernelspec": {
   "display_name": ".venv",
   "language": "python",
   "name": "python3"
  },
  "language_info": {
   "name": "python",
   "version": "3.12.3"
  }
 },
 "nbformat": 4,
 "nbformat_minor": 5
}
